{
 "cells": [
  {
   "cell_type": "markdown",
   "metadata": {
    "colab_type": "text",
    "id": "HrZ7-nxcXLvy"
   },
   "source": [
    "# Problem Statement"
   ]
  },
  {
   "cell_type": "markdown",
   "metadata": {
    "colab_type": "text",
    "id": "t0h8pRHeXLv5"
   },
   "source": [
    "\n",
    "WHO is a specialized agency of the UN which is concerned with the world population health. Based upon the various parameters, WHO allocates budget for various areas to conduct various campaigns/initiatives to improve healthcare. Annual salary is an important variable which is considered to decide budget to be allocated for an area.  \n",
    "  \n",
    "We have a data which contains information about 32561 samples and 10 continuous and categorical variables. Extraction of data was done from 1994 Census dataset.  \n",
    "  \n",
    "The goal here is to build a binary model to predict whether the salary is >50K or <50K."
   ]
  },
  {
   "cell_type": "markdown",
   "metadata": {
    "colab_type": "text",
    "id": "9dE_kg56XLv8"
   },
   "source": [
    "# Data Dictionary"
   ]
  },
  {
   "cell_type": "markdown",
   "metadata": {
    "colab_type": "text",
    "id": "kTLVHgQ8XLwA"
   },
   "source": [
    "1. <b>age:</b> age  \n",
    "2. <b>workclass:</b> workclass  \n",
    "3. <b>education:</b> highest education  \n",
    "4. <b>marital status:</b> marital status  \n",
    "5. <b>occupation:</b> occupation  \n",
    "6. <b>sex:</b> sex  \n",
    "7. <b>capital gain:</b> income from investment sources other than salary/wages  \n",
    "8. <b>capital loss:</b> income from investment sources other than salary/wages  \n",
    "9. <b>working hours:</b> number of working hours per week  \n",
    "10. <b>salary:</b> salary  "
   ]
  },
  {
   "cell_type": "markdown",
   "metadata": {},
   "source": [
    "# Import Libraries"
   ]
  },
  {
   "cell_type": "code",
   "execution_count": 3,
   "metadata": {
    "ExecuteTime": {
     "end_time": "2021-11-06T04:09:53.107170Z",
     "start_time": "2021-11-06T04:09:53.095202Z"
    },
    "colab": {},
    "colab_type": "code",
    "id": "OVZ9VG1hXLwD"
   },
   "outputs": [],
   "source": [
    "import numpy as np\n",
    "import pandas as pd\n",
    "import matplotlib.pyplot as plt   \n",
    "import seaborn as sns\n",
    "sns.set_theme(style='darkgrid')\n",
    "from sklearn.model_selection import train_test_split,GridSearchCV\n",
    "from sklearn.linear_model import LogisticRegression\n",
    "from sklearn.metrics import roc_auc_score, roc_curve, classification_report, confusion_matrix, plot_confusion_matrix, plot_roc_curve\n",
    "import warnings\n",
    "warnings.filterwarnings('ignore')"
   ]
  },
  {
   "cell_type": "markdown",
   "metadata": {},
   "source": [
    "# Load the Dataset"
   ]
  },
  {
   "cell_type": "code",
   "execution_count": 4,
   "metadata": {
    "ExecuteTime": {
     "end_time": "2021-11-06T04:09:56.259783Z",
     "start_time": "2021-11-06T04:09:56.134798Z"
    },
    "colab": {},
    "colab_type": "code",
    "id": "VJJm2CfGXLwP"
   },
   "outputs": [],
   "source": [
    "adult_data=pd.read_csv(\"adult.data.csv\")"
   ]
  },
  {
   "cell_type": "markdown",
   "metadata": {
    "colab_type": "text",
    "id": "imoOAX3GXLwX"
   },
   "source": [
    "# EDA"
   ]
  },
  {
   "cell_type": "markdown",
   "metadata": {},
   "source": [
    "## Shape, Head & Info"
   ]
  },
  {
   "cell_type": "code",
   "execution_count": 5,
   "metadata": {
    "ExecuteTime": {
     "end_time": "2021-11-06T04:10:13.713690Z",
     "start_time": "2021-11-06T04:10:13.695739Z"
    }
   },
   "outputs": [
    {
     "data": {
      "text/plain": [
       "(32561, 10)"
      ]
     },
     "execution_count": 5,
     "metadata": {},
     "output_type": "execute_result"
    }
   ],
   "source": [
    "adult_data.shape"
   ]
  },
  {
   "cell_type": "code",
   "execution_count": 6,
   "metadata": {
    "ExecuteTime": {
     "end_time": "2021-11-06T04:10:20.751328Z",
     "start_time": "2021-11-06T04:10:20.697442Z"
    },
    "colab": {},
    "colab_type": "code",
    "id": "LTjN85hfXLwa",
    "outputId": "477775ac-502e-46f5-c0e8-c444b00bf076"
   },
   "outputs": [
    {
     "data": {
      "text/html": [
       "<div>\n",
       "<style scoped>\n",
       "    .dataframe tbody tr th:only-of-type {\n",
       "        vertical-align: middle;\n",
       "    }\n",
       "\n",
       "    .dataframe tbody tr th {\n",
       "        vertical-align: top;\n",
       "    }\n",
       "\n",
       "    .dataframe thead th {\n",
       "        text-align: right;\n",
       "    }\n",
       "</style>\n",
       "<table border=\"1\" class=\"dataframe\">\n",
       "  <thead>\n",
       "    <tr style=\"text-align: right;\">\n",
       "      <th></th>\n",
       "      <th>age</th>\n",
       "      <th>workclass</th>\n",
       "      <th>education</th>\n",
       "      <th>marrital status</th>\n",
       "      <th>occupation</th>\n",
       "      <th>sex</th>\n",
       "      <th>capital gain</th>\n",
       "      <th>capital loss</th>\n",
       "      <th>working hours per week</th>\n",
       "      <th>salary</th>\n",
       "    </tr>\n",
       "  </thead>\n",
       "  <tbody>\n",
       "    <tr>\n",
       "      <th>0</th>\n",
       "      <td>39</td>\n",
       "      <td>State-gov</td>\n",
       "      <td>Bachelors</td>\n",
       "      <td>Never-married</td>\n",
       "      <td>Adm-clerical</td>\n",
       "      <td>Male</td>\n",
       "      <td>2174</td>\n",
       "      <td>0</td>\n",
       "      <td>40</td>\n",
       "      <td>&lt;=50K</td>\n",
       "    </tr>\n",
       "    <tr>\n",
       "      <th>1</th>\n",
       "      <td>50</td>\n",
       "      <td>Self-emp-not-inc</td>\n",
       "      <td>Bachelors</td>\n",
       "      <td>Married-civ-spouse</td>\n",
       "      <td>Exec-managerial</td>\n",
       "      <td>Male</td>\n",
       "      <td>0</td>\n",
       "      <td>0</td>\n",
       "      <td>13</td>\n",
       "      <td>&lt;=50K</td>\n",
       "    </tr>\n",
       "    <tr>\n",
       "      <th>2</th>\n",
       "      <td>38</td>\n",
       "      <td>Private</td>\n",
       "      <td>HS-grad</td>\n",
       "      <td>Divorced</td>\n",
       "      <td>Handlers-cleaners</td>\n",
       "      <td>Male</td>\n",
       "      <td>0</td>\n",
       "      <td>0</td>\n",
       "      <td>40</td>\n",
       "      <td>&lt;=50K</td>\n",
       "    </tr>\n",
       "    <tr>\n",
       "      <th>3</th>\n",
       "      <td>53</td>\n",
       "      <td>Private</td>\n",
       "      <td>11th</td>\n",
       "      <td>Married-civ-spouse</td>\n",
       "      <td>Handlers-cleaners</td>\n",
       "      <td>Male</td>\n",
       "      <td>0</td>\n",
       "      <td>0</td>\n",
       "      <td>40</td>\n",
       "      <td>&lt;=50K</td>\n",
       "    </tr>\n",
       "    <tr>\n",
       "      <th>4</th>\n",
       "      <td>28</td>\n",
       "      <td>Private</td>\n",
       "      <td>Bachelors</td>\n",
       "      <td>Married-civ-spouse</td>\n",
       "      <td>Prof-specialty</td>\n",
       "      <td>Female</td>\n",
       "      <td>0</td>\n",
       "      <td>0</td>\n",
       "      <td>40</td>\n",
       "      <td>&lt;=50K</td>\n",
       "    </tr>\n",
       "  </tbody>\n",
       "</table>\n",
       "</div>"
      ],
      "text/plain": [
       "   age         workclass  education     marrital status         occupation  \\\n",
       "0   39         State-gov  Bachelors       Never-married       Adm-clerical   \n",
       "1   50  Self-emp-not-inc  Bachelors  Married-civ-spouse    Exec-managerial   \n",
       "2   38           Private    HS-grad            Divorced  Handlers-cleaners   \n",
       "3   53           Private       11th  Married-civ-spouse  Handlers-cleaners   \n",
       "4   28           Private  Bachelors  Married-civ-spouse     Prof-specialty   \n",
       "\n",
       "      sex  capital gain  capital loss  working hours per week  salary  \n",
       "0    Male          2174             0                      40   <=50K  \n",
       "1    Male             0             0                      13   <=50K  \n",
       "2    Male             0             0                      40   <=50K  \n",
       "3    Male             0             0                      40   <=50K  \n",
       "4  Female             0             0                      40   <=50K  "
      ]
     },
     "execution_count": 6,
     "metadata": {},
     "output_type": "execute_result"
    }
   ],
   "source": [
    "adult_data.head()"
   ]
  },
  {
   "cell_type": "code",
   "execution_count": 7,
   "metadata": {
    "ExecuteTime": {
     "end_time": "2021-11-06T04:10:29.329413Z",
     "start_time": "2021-11-06T04:10:29.265691Z"
    },
    "colab": {},
    "colab_type": "code",
    "id": "JmesMGp_XLwn",
    "outputId": "80ca447c-c7c5-45a3-f283-abfece64cd79"
   },
   "outputs": [
    {
     "name": "stdout",
     "output_type": "stream",
     "text": [
      "<class 'pandas.core.frame.DataFrame'>\n",
      "RangeIndex: 32561 entries, 0 to 32560\n",
      "Data columns (total 10 columns):\n",
      " #   Column                  Non-Null Count  Dtype \n",
      "---  ------                  --------------  ----- \n",
      " 0   age                     32561 non-null  int64 \n",
      " 1   workclass               32561 non-null  object\n",
      " 2   education               32561 non-null  object\n",
      " 3   marrital status         32561 non-null  object\n",
      " 4   occupation              32561 non-null  object\n",
      " 5   sex                     32561 non-null  object\n",
      " 6   capital gain            32561 non-null  int64 \n",
      " 7   capital loss            32561 non-null  int64 \n",
      " 8   working hours per week  32561 non-null  int64 \n",
      " 9   salary                  32561 non-null  object\n",
      "dtypes: int64(4), object(6)\n",
      "memory usage: 2.5+ MB\n"
     ]
    }
   ],
   "source": [
    "adult_data.info()"
   ]
  },
  {
   "cell_type": "markdown",
   "metadata": {
    "colab_type": "text",
    "id": "LNeNEe0rXLwy"
   },
   "source": [
    "There are no missing values. 6 variables are numeric and remaining categorical. Categorical variables are not in encoded format"
   ]
  },
  {
   "cell_type": "markdown",
   "metadata": {
    "colab_type": "text",
    "id": "YfkdoZ-hXLw2"
   },
   "source": [
    "## Duplicated Observations"
   ]
  },
  {
   "cell_type": "code",
   "execution_count": 8,
   "metadata": {
    "ExecuteTime": {
     "end_time": "2021-11-06T04:11:09.455761Z",
     "start_time": "2021-11-06T04:11:09.401874Z"
    },
    "colab": {},
    "colab_type": "code",
    "id": "WxC5ErgZXLw5",
    "outputId": "d7135a1a-80cc-4219-97c6-4627bfbb4d9d"
   },
   "outputs": [
    {
     "name": "stdout",
     "output_type": "stream",
     "text": [
      "Number of duplicate rows = 5864\n",
      "(32561, 10)\n"
     ]
    }
   ],
   "source": [
    "dups = adult_data.duplicated()\n",
    "print(f'Number of duplicate rows = {dups.sum()}')\n",
    "print(adult_data.shape)"
   ]
  },
  {
   "cell_type": "code",
   "execution_count": 9,
   "metadata": {
    "ExecuteTime": {
     "end_time": "2021-11-06T04:11:27.080316Z",
     "start_time": "2021-11-06T04:11:27.009507Z"
    },
    "colab": {},
    "colab_type": "code",
    "id": "BuUd7amaXLxE"
   },
   "outputs": [],
   "source": [
    "#drop duplicate observations\n",
    "adult_data.drop_duplicates(inplace=True) "
   ]
  },
  {
   "cell_type": "code",
   "execution_count": 10,
   "metadata": {
    "ExecuteTime": {
     "end_time": "2021-11-06T04:11:34.846457Z",
     "start_time": "2021-11-06T04:11:34.787580Z"
    },
    "colab": {},
    "colab_type": "code",
    "id": "8vBJ3HnVXLxK",
    "outputId": "b4c78f23-7380-400e-84b3-d92bbfb6676a"
   },
   "outputs": [
    {
     "name": "stdout",
     "output_type": "stream",
     "text": [
      "Number of duplicate rows = 0\n",
      "(26697, 10)\n"
     ]
    }
   ],
   "source": [
    "dups = adult_data.duplicated()\n",
    "print(f'Number of duplicate rows = {dups.sum()}')\n",
    "print(adult_data.shape)"
   ]
  },
  {
   "cell_type": "markdown",
   "metadata": {
    "colab_type": "text",
    "id": "cKP7BLL9XLxU"
   },
   "source": [
    "## Univariate Analysis"
   ]
  },
  {
   "cell_type": "markdown",
   "metadata": {},
   "source": [
    "### Categorical Feature Levels Frequencies"
   ]
  },
  {
   "cell_type": "code",
   "execution_count": 11,
   "metadata": {
    "ExecuteTime": {
     "end_time": "2021-11-06T04:14:50.888481Z",
     "start_time": "2021-11-06T04:14:50.738369Z"
    },
    "colab": {},
    "colab_type": "code",
    "id": "yYMEWgbyXLxg",
    "outputId": "45eff666-533c-43f6-8c7e-a57450a27ef9",
    "scrolled": false
   },
   "outputs": [
    {
     "name": "stdout",
     "output_type": "stream",
     "text": [
      "workclass  Number of Levels 9\n",
      "Private             17474\n",
      "Self-emp-not-inc     2447\n",
      "Local-gov            1980\n",
      "?                    1519\n",
      "State-gov            1246\n",
      "Self-emp-inc         1089\n",
      "Federal-gov           921\n",
      "Without-pay            14\n",
      "Never-worked            7\n",
      "Name: workclass, dtype: int64\n",
      "\n",
      "\n",
      "education  Number of Levels 16\n",
      "HS-grad         7815\n",
      "Some-college    5692\n",
      "Bachelors       4461\n",
      "Masters         1606\n",
      "Assoc-voc       1281\n",
      "Assoc-acdm      1036\n",
      "11th             987\n",
      "10th             820\n",
      "7th-8th          611\n",
      "Prof-school      562\n",
      "9th              502\n",
      "Doctorate        399\n",
      "12th             397\n",
      "5th-6th          315\n",
      "1st-4th          164\n",
      "Preschool         49\n",
      "Name: education, dtype: int64\n",
      "\n",
      "\n",
      "marrital status  Number of Levels 7\n",
      "Married-civ-spouse       12679\n",
      "Never-married             7698\n",
      "Divorced                  3930\n",
      "Separated                  978\n",
      "Widowed                    971\n",
      "Married-spouse-absent      418\n",
      "Married-AF-spouse           23\n",
      "Name: marrital status, dtype: int64\n",
      "\n",
      "\n",
      "occupation  Number of Levels 15\n",
      "Prof-specialty       3703\n",
      "Exec-managerial      3531\n",
      "Sales                3009\n",
      "Craft-repair         2970\n",
      "Adm-clerical         2884\n",
      "Other-service        2626\n",
      "?                    1526\n",
      "Machine-op-inspct    1483\n",
      "Transport-moving     1372\n",
      "Handlers-cleaners    1033\n",
      "Farming-fishing       951\n",
      "Tech-support          841\n",
      "Protective-serv       614\n",
      "Priv-house-serv       145\n",
      "Armed-Forces            9\n",
      "Name: occupation, dtype: int64\n",
      "\n",
      "\n",
      "sex  Number of Levels 2\n",
      "Male      17862\n",
      "Female     8835\n",
      "Name: sex, dtype: int64\n",
      "\n",
      "\n",
      "salary  Number of Levels 2\n",
      " <=50K    19673\n",
      " >50K      7024\n",
      "Name: salary, dtype: int64\n",
      "\n",
      "\n"
     ]
    }
   ],
   "source": [
    "for feature in adult_data.columns: \n",
    "    if adult_data[feature].dtype == 'object': \n",
    "        print(feature, ' Number of Levels', adult_data[feature].nunique())\n",
    "        print(adult_data[feature].value_counts())\n",
    "        print('\\n')"
   ]
  },
  {
   "cell_type": "code",
   "execution_count": 13,
   "metadata": {
    "ExecuteTime": {
     "end_time": "2021-11-06T04:19:58.203105Z",
     "start_time": "2021-11-06T04:19:58.115828Z"
    }
   },
   "outputs": [
    {
     "data": {
      "text/plain": [
       " <=50K    0.736899\n",
       " >50K     0.263101\n",
       "Name: salary, dtype: float64"
      ]
     },
     "execution_count": 13,
     "metadata": {},
     "output_type": "execute_result"
    }
   ],
   "source": [
    "adult_data['salary'].value_counts(1)"
   ]
  },
  {
   "cell_type": "markdown",
   "metadata": {
    "colab_type": "text",
    "id": "U6cffo-UXLxo"
   },
   "source": [
    "'workclass' and 'occupation' has ?  \n",
    "Since, high number of cases have ?, we will convert them into a new level"
   ]
  },
  {
   "cell_type": "code",
   "execution_count": 14,
   "metadata": {
    "ExecuteTime": {
     "end_time": "2021-11-06T04:21:42.146731Z",
     "start_time": "2021-11-06T04:21:42.113822Z"
    }
   },
   "outputs": [],
   "source": [
    "# Replace ? to new Unk category\n",
    "\n",
    "adult_data.workclass = np.where(adult_data.workclass=='?',\n",
    "                                'Unk',adult_data.workclass)\n",
    "adult_data.occupation = np.where(adult_data.occupation=='?',\n",
    "                                'Unk', adult_data.occupation)"
   ]
  },
  {
   "cell_type": "code",
   "execution_count": 15,
   "metadata": {
    "ExecuteTime": {
     "end_time": "2021-11-06T04:21:46.693830Z",
     "start_time": "2021-11-06T04:21:46.663909Z"
    }
   },
   "outputs": [
    {
     "data": {
      "text/plain": [
       "Private             17474\n",
       "Self-emp-not-inc     2447\n",
       "Local-gov            1980\n",
       "Unk                  1519\n",
       "State-gov            1246\n",
       "Self-emp-inc         1089\n",
       "Federal-gov           921\n",
       "Without-pay            14\n",
       "Never-worked            7\n",
       "Name: workclass, dtype: int64"
      ]
     },
     "execution_count": 15,
     "metadata": {},
     "output_type": "execute_result"
    }
   ],
   "source": [
    "adult_data.workclass.value_counts()"
   ]
  },
  {
   "cell_type": "code",
   "execution_count": 16,
   "metadata": {
    "ExecuteTime": {
     "end_time": "2021-11-06T04:21:54.124999Z",
     "start_time": "2021-11-06T04:21:54.100065Z"
    }
   },
   "outputs": [
    {
     "data": {
      "text/plain": [
       "Prof-specialty       3703\n",
       "Exec-managerial      3531\n",
       "Sales                3009\n",
       "Craft-repair         2970\n",
       "Adm-clerical         2884\n",
       "Other-service        2626\n",
       "Unk                  1526\n",
       "Machine-op-inspct    1483\n",
       "Transport-moving     1372\n",
       "Handlers-cleaners    1033\n",
       "Farming-fishing       951\n",
       "Tech-support          841\n",
       "Protective-serv       614\n",
       "Priv-house-serv       145\n",
       "Armed-Forces            9\n",
       "Name: occupation, dtype: int64"
      ]
     },
     "execution_count": 16,
     "metadata": {},
     "output_type": "execute_result"
    }
   ],
   "source": [
    "adult_data.occupation.value_counts()"
   ]
  },
  {
   "cell_type": "markdown",
   "metadata": {},
   "source": [
    "### Statistical Summary of Numeric Features"
   ]
  },
  {
   "cell_type": "code",
   "execution_count": 17,
   "metadata": {
    "ExecuteTime": {
     "end_time": "2021-11-06T04:22:03.386355Z",
     "start_time": "2021-11-06T04:22:03.316510Z"
    },
    "colab": {},
    "colab_type": "code",
    "id": "F2ioQYuFXLxy",
    "outputId": "a97ac020-8c4d-428d-8f90-82cf3711cb92"
   },
   "outputs": [
    {
     "data": {
      "text/html": [
       "<div>\n",
       "<style scoped>\n",
       "    .dataframe tbody tr th:only-of-type {\n",
       "        vertical-align: middle;\n",
       "    }\n",
       "\n",
       "    .dataframe tbody tr th {\n",
       "        vertical-align: top;\n",
       "    }\n",
       "\n",
       "    .dataframe thead th {\n",
       "        text-align: right;\n",
       "    }\n",
       "</style>\n",
       "<table border=\"1\" class=\"dataframe\">\n",
       "  <thead>\n",
       "    <tr style=\"text-align: right;\">\n",
       "      <th></th>\n",
       "      <th>count</th>\n",
       "      <th>mean</th>\n",
       "      <th>std</th>\n",
       "      <th>min</th>\n",
       "      <th>25%</th>\n",
       "      <th>50%</th>\n",
       "      <th>75%</th>\n",
       "      <th>max</th>\n",
       "    </tr>\n",
       "  </thead>\n",
       "  <tbody>\n",
       "    <tr>\n",
       "      <th>age</th>\n",
       "      <td>26697.0</td>\n",
       "      <td>40.0</td>\n",
       "      <td>14.0</td>\n",
       "      <td>17.0</td>\n",
       "      <td>29.0</td>\n",
       "      <td>39.0</td>\n",
       "      <td>49.0</td>\n",
       "      <td>90.0</td>\n",
       "    </tr>\n",
       "    <tr>\n",
       "      <th>capital gain</th>\n",
       "      <td>26697.0</td>\n",
       "      <td>1305.0</td>\n",
       "      <td>8111.0</td>\n",
       "      <td>0.0</td>\n",
       "      <td>0.0</td>\n",
       "      <td>0.0</td>\n",
       "      <td>0.0</td>\n",
       "      <td>99999.0</td>\n",
       "    </tr>\n",
       "    <tr>\n",
       "      <th>capital loss</th>\n",
       "      <td>26697.0</td>\n",
       "      <td>106.0</td>\n",
       "      <td>441.0</td>\n",
       "      <td>0.0</td>\n",
       "      <td>0.0</td>\n",
       "      <td>0.0</td>\n",
       "      <td>0.0</td>\n",
       "      <td>4356.0</td>\n",
       "    </tr>\n",
       "    <tr>\n",
       "      <th>working hours per week</th>\n",
       "      <td>26697.0</td>\n",
       "      <td>41.0</td>\n",
       "      <td>13.0</td>\n",
       "      <td>1.0</td>\n",
       "      <td>38.0</td>\n",
       "      <td>40.0</td>\n",
       "      <td>46.0</td>\n",
       "      <td>99.0</td>\n",
       "    </tr>\n",
       "  </tbody>\n",
       "</table>\n",
       "</div>"
      ],
      "text/plain": [
       "                          count    mean     std   min   25%   50%   75%  \\\n",
       "age                     26697.0    40.0    14.0  17.0  29.0  39.0  49.0   \n",
       "capital gain            26697.0  1305.0  8111.0   0.0   0.0   0.0   0.0   \n",
       "capital loss            26697.0   106.0   441.0   0.0   0.0   0.0   0.0   \n",
       "working hours per week  26697.0    41.0    13.0   1.0  38.0  40.0  46.0   \n",
       "\n",
       "                            max  \n",
       "age                        90.0  \n",
       "capital gain            99999.0  \n",
       "capital loss             4356.0  \n",
       "working hours per week     99.0  "
      ]
     },
     "execution_count": 17,
     "metadata": {},
     "output_type": "execute_result"
    }
   ],
   "source": [
    "adult_data.describe().T.round(0)"
   ]
  },
  {
   "cell_type": "markdown",
   "metadata": {},
   "source": [
    "### Distribution of Numeric Features"
   ]
  },
  {
   "cell_type": "code",
   "execution_count": 18,
   "metadata": {
    "ExecuteTime": {
     "end_time": "2021-11-06T04:25:29.349500Z",
     "start_time": "2021-11-06T04:25:27.585542Z"
    }
   },
   "outputs": [
    {
     "data": {
      "image/png": "[encoded data removed]",
      "text/plain": [
       "<Figure size 576x432 with 4 Axes>"
      ]
     },
     "metadata": {},
     "output_type": "display_data"
    }
   ],
   "source": [
    "cols = ['age','capital gain','capital loss','working hours per week']\n",
    "adult_data[cols].plot(kind = 'box',subplots=True, figsize = (8,6));\n",
    "plt.tight_layout();"
   ]
  },
  {
   "cell_type": "markdown",
   "metadata": {
    "colab_type": "text",
    "id": "fb2rE0eIXLyG"
   },
   "source": [
    "### Treating the outliers.\n",
    "We can treat Outliers with the following code. We will treat the outliers for the 'Working Hours per week' variable only. Capital gains/loss, more than 75% values are zero, so capping the outliers would mean converting all non-zero values to zero. Also, for age, these seem to be genuine values and not error values reflecting as outliers."
   ]
  },
  {
   "cell_type": "code",
   "execution_count": 19,
   "metadata": {
    "ExecuteTime": {
     "end_time": "2021-11-06T04:27:58.099547Z",
     "start_time": "2021-11-06T04:27:58.087578Z"
    },
    "colab": {},
    "colab_type": "code",
    "id": "odGowVoMXLyI"
   },
   "outputs": [],
   "source": [
    "def remove_outlier(col):\n",
    "    sorted(col)\n",
    "    Q1,Q3=np.percentile(col,[25,75])\n",
    "    IQR=Q3-Q1\n",
    "    lower_range= Q1-(1.5 * IQR)\n",
    "    upper_range= Q3+(1.5 * IQR)\n",
    "    return lower_range, upper_range"
   ]
  },
  {
   "cell_type": "code",
   "execution_count": 20,
   "metadata": {
    "ExecuteTime": {
     "end_time": "2021-11-06T04:28:27.612315Z",
     "start_time": "2021-11-06T04:28:27.577409Z"
    }
   },
   "outputs": [
    {
     "name": "stdout",
     "output_type": "stream",
     "text": [
      "Lower Range : 26.0 \n",
      "Upper Range : 58.0\n"
     ]
    }
   ],
   "source": [
    "lr,ur=remove_outlier(adult_data['working hours per week'])\n",
    "\n",
    "print('Lower Range :',lr,'\\nUpper Range :',ur)\n",
    "\n",
    "adult_data['working hours per week']=np.where(adult_data['working hours per week']>ur,ur,adult_data['working hours per week'])\n",
    "\n",
    "adult_data['working hours per week']=np.where(adult_data['working hours per week']<lr,lr,adult_data['working hours per week'])"
   ]
  },
  {
   "cell_type": "code",
   "execution_count": 21,
   "metadata": {
    "ExecuteTime": {
     "end_time": "2021-11-06T04:29:01.019485Z",
     "start_time": "2021-11-06T04:28:59.797482Z"
    }
   },
   "outputs": [
    {
     "data": {
      "image/png": "[encoded data removed]",
      "text/plain": [
       "<Figure size 864x576 with 4 Axes>"
      ]
     },
     "metadata": {},
     "output_type": "display_data"
    }
   ],
   "source": [
    "adult_data[cols].plot(kind = 'box',subplots=True, figsize = (12,8));\n",
    "plt.tight_layout();"
   ]
  },
  {
   "cell_type": "markdown",
   "metadata": {},
   "source": [
    "## Bivariate Analysis"
   ]
  },
  {
   "cell_type": "markdown",
   "metadata": {
    "colab_type": "text",
    "id": "FvaVP9G5XLyd"
   },
   "source": [
    "### Numeric Features - Checking for Correlations."
   ]
  },
  {
   "cell_type": "code",
   "execution_count": 22,
   "metadata": {
    "ExecuteTime": {
     "end_time": "2021-11-06T04:29:33.290546Z",
     "start_time": "2021-11-06T04:29:33.262625Z"
    }
   },
   "outputs": [
    {
     "data": {
      "text/html": [
       "<div>\n",
       "<style scoped>\n",
       "    .dataframe tbody tr th:only-of-type {\n",
       "        vertical-align: middle;\n",
       "    }\n",
       "\n",
       "    .dataframe tbody tr th {\n",
       "        vertical-align: top;\n",
       "    }\n",
       "\n",
       "    .dataframe thead th {\n",
       "        text-align: right;\n",
       "    }\n",
       "</style>\n",
       "<table border=\"1\" class=\"dataframe\">\n",
       "  <thead>\n",
       "    <tr style=\"text-align: right;\">\n",
       "      <th></th>\n",
       "      <th>age</th>\n",
       "      <th>capital gain</th>\n",
       "      <th>capital loss</th>\n",
       "      <th>working hours per week</th>\n",
       "    </tr>\n",
       "  </thead>\n",
       "  <tbody>\n",
       "    <tr>\n",
       "      <th>age</th>\n",
       "      <td>1.00</td>\n",
       "      <td>0.07</td>\n",
       "      <td>0.04</td>\n",
       "      <td>0.04</td>\n",
       "    </tr>\n",
       "    <tr>\n",
       "      <th>capital gain</th>\n",
       "      <td>0.07</td>\n",
       "      <td>1.00</td>\n",
       "      <td>-0.04</td>\n",
       "      <td>0.09</td>\n",
       "    </tr>\n",
       "    <tr>\n",
       "      <th>capital loss</th>\n",
       "      <td>0.04</td>\n",
       "      <td>-0.04</td>\n",
       "      <td>1.00</td>\n",
       "      <td>0.06</td>\n",
       "    </tr>\n",
       "    <tr>\n",
       "      <th>working hours per week</th>\n",
       "      <td>0.04</td>\n",
       "      <td>0.09</td>\n",
       "      <td>0.06</td>\n",
       "      <td>1.00</td>\n",
       "    </tr>\n",
       "  </tbody>\n",
       "</table>\n",
       "</div>"
      ],
      "text/plain": [
       "                         age  capital gain  capital loss  \\\n",
       "age                     1.00          0.07          0.04   \n",
       "capital gain            0.07          1.00         -0.04   \n",
       "capital loss            0.04         -0.04          1.00   \n",
       "working hours per week  0.04          0.09          0.06   \n",
       "\n",
       "                        working hours per week  \n",
       "age                                       0.04  \n",
       "capital gain                              0.09  \n",
       "capital loss                              0.06  \n",
       "working hours per week                    1.00  "
      ]
     },
     "execution_count": 22,
     "metadata": {},
     "output_type": "execute_result"
    }
   ],
   "source": [
    "adult_data.corr().round(2)"
   ]
  },
  {
   "cell_type": "code",
   "execution_count": 23,
   "metadata": {
    "ExecuteTime": {
     "end_time": "2021-11-06T04:30:15.062038Z",
     "start_time": "2021-11-06T04:30:14.310531Z"
    },
    "colab": {},
    "colab_type": "code",
    "id": "HzprqG5cXLyf",
    "outputId": "19dcb17e-c771-48be-a2fb-2caa9c8a7b73"
   },
   "outputs": [
    {
     "data": {
      "image/png": "[encoded data removed]",
      "text/plain": [
       "<Figure size 576x432 with 2 Axes>"
      ]
     },
     "metadata": {},
     "output_type": "display_data"
    }
   ],
   "source": [
    "plt.figure(figsize=(8,6))\n",
    "sns.heatmap(adult_data.corr().round(2), \n",
    "            cmap='plasma', \n",
    "            vmin=-1, \n",
    "            vmax=1, \n",
    "            annot=True,\n",
    "            annot_kws={'size':15},\n",
    "            mask=np.triu(adult_data.corr(),1)\n",
    "           )\n",
    "plt.yticks(rotation = 0);"
   ]
  },
  {
   "cell_type": "markdown",
   "metadata": {
    "colab_type": "text",
    "id": "F1G2UbKcXLzB"
   },
   "source": [
    "There is hardly any correlation between the numeric variables"
   ]
  },
  {
   "cell_type": "code",
   "execution_count": 24,
   "metadata": {
    "ExecuteTime": {
     "end_time": "2021-11-06T04:31:04.717720Z",
     "start_time": "2021-11-06T04:30:41.254198Z"
    },
    "colab": {},
    "colab_type": "code",
    "id": "oAyLXiE0XLzD",
    "outputId": "762e5713-3df5-4331-c69d-dd9b146681e4"
   },
   "outputs": [
    {
     "data": {
      "image/png": "[encoded data removed]",
      "text/plain": [
       "<Figure size 794.725x720 with 14 Axes>"
      ]
     },
     "metadata": {},
     "output_type": "display_data"
    }
   ],
   "source": [
    "# Pairplot using sns\n",
    "sns.pairplot(adult_data ,\n",
    "             diag_kind='kde',\n",
    "             hue='salary',\n",
    "             corner=True);"
   ]
  },
  {
   "cell_type": "markdown",
   "metadata": {
    "colab_type": "text",
    "id": "4ITcSUaMXLzJ"
   },
   "source": [
    "# Encoding Categorical Feature Labels"
   ]
  },
  {
   "cell_type": "code",
   "execution_count": 25,
   "metadata": {
    "ExecuteTime": {
     "end_time": "2021-11-06T04:35:51.762084Z",
     "start_time": "2021-11-06T04:35:51.645916Z"
    },
    "colab": {},
    "colab_type": "code",
    "id": "x9zRoMpOXLzM",
    "outputId": "1535b154-cb99-4378-baad-0fe5eff3f317"
   },
   "outputs": [],
   "source": [
    "## We are coding up the 'education' variable in an ordinal manner Otherwise, if we just do Label encoding the numbering would be on alphabetic order basis  in which the category labels appear in the rows\n",
    "\n",
    "adult_data['education']=np.where(adult_data['education'] =='Preschool', '1', adult_data['education'])\n",
    "adult_data['education']=np.where(adult_data['education'] =='1st-4th', '2', adult_data['education'])\n",
    "adult_data['education']=np.where(adult_data['education'] =='5th-6th', '3', adult_data['education'])\n",
    "adult_data['education']=np.where(adult_data['education'] =='7th-8th', '4', adult_data['education'])\n",
    "adult_data['education']=np.where(adult_data['education'] =='9th', '5', adult_data['education'])\n",
    "adult_data['education']=np.where(adult_data['education'] =='10th', '6', adult_data['education'])\n",
    "adult_data['education']=np.where(adult_data['education'] =='11th', '7', adult_data['education'])\n",
    "adult_data['education']=np.where(adult_data['education'] =='12th', '8', adult_data['education'])\n",
    "adult_data['education']=np.where(adult_data['education'] =='HS-grad', '9', adult_data['education'])\n",
    "adult_data['education']=np.where(adult_data['education'] =='Prof-school', '9', adult_data['education'])\n",
    "adult_data['education']=np.where(adult_data['education'] =='Assoc-acdm', '10', adult_data['education'])\n",
    "adult_data['education']=np.where(adult_data['education'] =='Assoc-voc', '11', adult_data['education'])\n",
    "adult_data['education']=np.where(adult_data['education'] =='Some-college', '12', adult_data['education'])\n",
    "adult_data['education']=np.where(adult_data['education'] =='Bachelors', '13', adult_data['education'])\n",
    "adult_data['education']=np.where(adult_data['education'] =='Masters', '14', adult_data['education'])\n",
    "adult_data['education']=np.where(adult_data['education'] =='Doctorate', '15', adult_data['education'])"
   ]
  },
  {
   "cell_type": "code",
   "execution_count": 26,
   "metadata": {
    "ExecuteTime": {
     "end_time": "2021-11-06T04:36:58.101000Z",
     "start_time": "2021-11-06T04:36:58.036176Z"
    }
   },
   "outputs": [],
   "source": [
    "## We are grouping certain types of 'workclass' under different categories\n",
    "\n",
    "adult_data['workclass']=np.where(adult_data['workclass'] =='Federal-gov', 'Government', adult_data['workclass'])\n",
    "adult_data['workclass']=np.where(adult_data['workclass'] =='Local-gov', 'Government', adult_data['workclass'])\n",
    "adult_data['workclass']=np.where(adult_data['workclass'] =='State-gov', 'Government', adult_data['workclass'])\n",
    "\n",
    "adult_data['workclass']=np.where(adult_data['workclass'] =='Self-emp-inc', 'Others', adult_data['workclass'])\n",
    "adult_data['workclass']=np.where(adult_data['workclass'] =='Self-emp-not-inc', 'Others', adult_data['workclass'])\n",
    "adult_data['workclass']=np.where(adult_data['workclass'] =='Unk', 'Others', adult_data['workclass'])\n",
    "adult_data['workclass']=np.where(adult_data['workclass'] =='Without-pay', 'Others', adult_data['workclass'])\n",
    "adult_data['workclass']=np.where(adult_data['workclass'] =='Never-worked', 'Others', adult_data['workclass'])"
   ]
  },
  {
   "cell_type": "code",
   "execution_count": 27,
   "metadata": {
    "ExecuteTime": {
     "end_time": "2021-11-06T04:37:25.788632Z",
     "start_time": "2021-11-06T04:37:25.720813Z"
    }
   },
   "outputs": [],
   "source": [
    "## We are grouping certain types of 'maritalstatus' under different categories\n",
    "\n",
    "adult_data['marrital status']=np.where(adult_data['marrital status'] =='Divorced', 'CurrentlySingle', adult_data['marrital status'])\n",
    "adult_data['marrital status']=np.where(adult_data['marrital status'] =='Separated', 'CurrentlySingle', adult_data['marrital status'])\n",
    "adult_data['marrital status']=np.where(adult_data['marrital status'] =='Never-married', 'CurrentlySingle', adult_data['marrital status'])\n",
    "adult_data['marrital status']=np.where(adult_data['marrital status'] =='Widowed', 'CurrentlySingle', adult_data['marrital status'])\n",
    "\n",
    "adult_data['marrital status']=np.where(adult_data['marrital status'] =='Married-civ-spouse', 'Married', adult_data['marrital status'])\n",
    "adult_data['marrital status']=np.where(adult_data['marrital status'] =='Married-spouse-absent', 'Married', adult_data['marrital status'])\n",
    "adult_data['marrital status']=np.where(adult_data['marrital status'] =='Married-AF-absent', 'Married', adult_data['marrital status'])\n",
    "adult_data['marrital status']=np.where(adult_data['marrital status'] =='Married-AF-spouse', 'Married', adult_data['marrital status'])"
   ]
  },
  {
   "cell_type": "code",
   "execution_count": 28,
   "metadata": {
    "ExecuteTime": {
     "end_time": "2021-11-06T04:38:21.478639Z",
     "start_time": "2021-11-06T04:38:21.369930Z"
    }
   },
   "outputs": [],
   "source": [
    "## We are grouping certain types of 'occupation' under different categories\n",
    "\n",
    "adult_data['occupation']=np.where(adult_data['occupation'] =='Adm-clerical', 'WhiteCollar', adult_data['occupation'])\n",
    "adult_data['occupation']=np.where(adult_data['occupation'] =='Exec-managerial', 'WhiteCollar', adult_data['occupation'])\n",
    "\n",
    "adult_data['occupation']=np.where(adult_data['occupation'] =='Craft-repair', 'BlueCollar', adult_data['occupation'])\n",
    "adult_data['occupation']=np.where(adult_data['occupation'] =='Handlers-cleaners', 'BlueCollar', adult_data['occupation'])\n",
    "adult_data['occupation']=np.where(adult_data['occupation'] =='Transport-moving', 'BlueCollar', adult_data['occupation'])\n",
    "adult_data['occupation']=np.where(adult_data['occupation'] =='Farming-fishing', 'BlueCollar', adult_data['occupation'])\n",
    "adult_data['occupation']=np.where(adult_data['occupation'] =='Machine-op-inspct', 'BlueCollar', adult_data['occupation'])\n",
    "\n",
    "adult_data['occupation']=np.where(adult_data['occupation'] =='Tech-support', 'Service', adult_data['occupation'])\n",
    "adult_data['occupation']=np.where(adult_data['occupation'] =='Other-service', 'Service', adult_data['occupation'])\n",
    "adult_data['occupation']=np.where(adult_data['occupation'] =='Protective-serv', 'Service', adult_data['occupation'])\n",
    "adult_data['occupation']=np.where(adult_data['occupation'] =='Priv-house-serv', 'Service', adult_data['occupation'])\n",
    "adult_data['occupation']=np.where(adult_data['occupation'] =='Prof-specialty', 'Service', adult_data['occupation'])\n",
    "\n",
    "adult_data['occupation']=np.where(adult_data['occupation'] =='Unk', 'Unknown_Others', adult_data['occupation'])\n",
    "adult_data['occupation']=np.where(adult_data['occupation'] =='Armed-Forces', 'Unknown_Others', adult_data['occupation'])"
   ]
  },
  {
   "cell_type": "code",
   "execution_count": 29,
   "metadata": {
    "ExecuteTime": {
     "end_time": "2021-11-06T04:38:25.826829Z",
     "start_time": "2021-11-06T04:38:25.780918Z"
    },
    "colab": {},
    "colab_type": "code",
    "id": "XY8WZ7p1XLzT",
    "outputId": "3fed5539-c714-44c4-d773-22a1c3744dd3"
   },
   "outputs": [
    {
     "data": {
      "text/html": [
       "<div>\n",
       "<style scoped>\n",
       "    .dataframe tbody tr th:only-of-type {\n",
       "        vertical-align: middle;\n",
       "    }\n",
       "\n",
       "    .dataframe tbody tr th {\n",
       "        vertical-align: top;\n",
       "    }\n",
       "\n",
       "    .dataframe thead th {\n",
       "        text-align: right;\n",
       "    }\n",
       "</style>\n",
       "<table border=\"1\" class=\"dataframe\">\n",
       "  <thead>\n",
       "    <tr style=\"text-align: right;\">\n",
       "      <th></th>\n",
       "      <th>age</th>\n",
       "      <th>workclass</th>\n",
       "      <th>education</th>\n",
       "      <th>marrital status</th>\n",
       "      <th>occupation</th>\n",
       "      <th>sex</th>\n",
       "      <th>capital gain</th>\n",
       "      <th>capital loss</th>\n",
       "      <th>working hours per week</th>\n",
       "      <th>salary</th>\n",
       "    </tr>\n",
       "  </thead>\n",
       "  <tbody>\n",
       "    <tr>\n",
       "      <th>0</th>\n",
       "      <td>39</td>\n",
       "      <td>Government</td>\n",
       "      <td>13</td>\n",
       "      <td>CurrentlySingle</td>\n",
       "      <td>WhiteCollar</td>\n",
       "      <td>Male</td>\n",
       "      <td>2174</td>\n",
       "      <td>0</td>\n",
       "      <td>40.0</td>\n",
       "      <td>&lt;=50K</td>\n",
       "    </tr>\n",
       "    <tr>\n",
       "      <th>1</th>\n",
       "      <td>50</td>\n",
       "      <td>Others</td>\n",
       "      <td>13</td>\n",
       "      <td>Married</td>\n",
       "      <td>WhiteCollar</td>\n",
       "      <td>Male</td>\n",
       "      <td>0</td>\n",
       "      <td>0</td>\n",
       "      <td>26.0</td>\n",
       "      <td>&lt;=50K</td>\n",
       "    </tr>\n",
       "    <tr>\n",
       "      <th>2</th>\n",
       "      <td>38</td>\n",
       "      <td>Private</td>\n",
       "      <td>9</td>\n",
       "      <td>CurrentlySingle</td>\n",
       "      <td>BlueCollar</td>\n",
       "      <td>Male</td>\n",
       "      <td>0</td>\n",
       "      <td>0</td>\n",
       "      <td>40.0</td>\n",
       "      <td>&lt;=50K</td>\n",
       "    </tr>\n",
       "    <tr>\n",
       "      <th>3</th>\n",
       "      <td>53</td>\n",
       "      <td>Private</td>\n",
       "      <td>7</td>\n",
       "      <td>Married</td>\n",
       "      <td>BlueCollar</td>\n",
       "      <td>Male</td>\n",
       "      <td>0</td>\n",
       "      <td>0</td>\n",
       "      <td>40.0</td>\n",
       "      <td>&lt;=50K</td>\n",
       "    </tr>\n",
       "    <tr>\n",
       "      <th>4</th>\n",
       "      <td>28</td>\n",
       "      <td>Private</td>\n",
       "      <td>13</td>\n",
       "      <td>Married</td>\n",
       "      <td>Service</td>\n",
       "      <td>Female</td>\n",
       "      <td>0</td>\n",
       "      <td>0</td>\n",
       "      <td>40.0</td>\n",
       "      <td>&lt;=50K</td>\n",
       "    </tr>\n",
       "  </tbody>\n",
       "</table>\n",
       "</div>"
      ],
      "text/plain": [
       "   age   workclass education  marrital status   occupation     sex  \\\n",
       "0   39  Government        13  CurrentlySingle  WhiteCollar    Male   \n",
       "1   50      Others        13          Married  WhiteCollar    Male   \n",
       "2   38     Private         9  CurrentlySingle   BlueCollar    Male   \n",
       "3   53     Private         7          Married   BlueCollar    Male   \n",
       "4   28     Private        13          Married      Service  Female   \n",
       "\n",
       "   capital gain  capital loss  working hours per week  salary  \n",
       "0          2174             0                    40.0   <=50K  \n",
       "1             0             0                    26.0   <=50K  \n",
       "2             0             0                    40.0   <=50K  \n",
       "3             0             0                    40.0   <=50K  \n",
       "4             0             0                    40.0   <=50K  "
      ]
     },
     "execution_count": 29,
     "metadata": {},
     "output_type": "execute_result"
    }
   ],
   "source": [
    "adult_data.head()"
   ]
  },
  {
   "cell_type": "code",
   "execution_count": 30,
   "metadata": {
    "ExecuteTime": {
     "end_time": "2021-11-06T04:38:43.238325Z",
     "start_time": "2021-11-06T04:38:43.190451Z"
    }
   },
   "outputs": [
    {
     "name": "stdout",
     "output_type": "stream",
     "text": [
      "<class 'pandas.core.frame.DataFrame'>\n",
      "Int64Index: 26697 entries, 0 to 32560\n",
      "Data columns (total 10 columns):\n",
      " #   Column                  Non-Null Count  Dtype  \n",
      "---  ------                  --------------  -----  \n",
      " 0   age                     26697 non-null  int64  \n",
      " 1   workclass               26697 non-null  object \n",
      " 2   education               26697 non-null  object \n",
      " 3   marrital status         26697 non-null  object \n",
      " 4   occupation              26697 non-null  object \n",
      " 5   sex                     26697 non-null  object \n",
      " 6   capital gain            26697 non-null  int64  \n",
      " 7   capital loss            26697 non-null  int64  \n",
      " 8   working hours per week  26697 non-null  float64\n",
      " 9   salary                  26697 non-null  object \n",
      "dtypes: float64(1), int64(3), object(6)\n",
      "memory usage: 2.2+ MB\n"
     ]
    }
   ],
   "source": [
    "adult_data.info()"
   ]
  },
  {
   "cell_type": "code",
   "execution_count": 31,
   "metadata": {
    "ExecuteTime": {
     "end_time": "2021-11-06T04:40:06.611943Z",
     "start_time": "2021-11-06T04:40:06.565069Z"
    }
   },
   "outputs": [
    {
     "name": "stdout",
     "output_type": "stream",
     "text": [
      "<class 'pandas.core.frame.DataFrame'>\n",
      "Int64Index: 26697 entries, 0 to 32560\n",
      "Data columns (total 10 columns):\n",
      " #   Column                  Non-Null Count  Dtype  \n",
      "---  ------                  --------------  -----  \n",
      " 0   age                     26697 non-null  int64  \n",
      " 1   workclass               26697 non-null  object \n",
      " 2   education               26697 non-null  int64  \n",
      " 3   marrital status         26697 non-null  object \n",
      " 4   occupation              26697 non-null  object \n",
      " 5   sex                     26697 non-null  object \n",
      " 6   capital gain            26697 non-null  int64  \n",
      " 7   capital loss            26697 non-null  int64  \n",
      " 8   working hours per week  26697 non-null  float64\n",
      " 9   salary                  26697 non-null  object \n",
      "dtypes: float64(1), int64(4), object(5)\n",
      "memory usage: 2.2+ MB\n"
     ]
    }
   ],
   "source": [
    "## Converting the education variable to numeric so that the text values of '1','2','3'... etc. doesnt get one-hot encoded later on when we do one-hot encoding\n",
    "\n",
    "adult_data['education'] = adult_data['education'].astype('int64')\n",
    "adult_data.info()"
   ]
  },
  {
   "cell_type": "code",
   "execution_count": 32,
   "metadata": {
    "ExecuteTime": {
     "end_time": "2021-11-06T04:40:23.874480Z",
     "start_time": "2021-11-06T04:40:23.854499Z"
    }
   },
   "outputs": [],
   "source": [
    "## Converting the 'salary' Variable into numeric by using the LabelEncoder functionality inside sklearn.\n",
    "from sklearn.preprocessing import LabelEncoder\n",
    "\n",
    "## Defining a Label Encoder object instance\n",
    "LE = LabelEncoder()"
   ]
  },
  {
   "cell_type": "code",
   "execution_count": 33,
   "metadata": {
    "ExecuteTime": {
     "end_time": "2021-11-06T04:40:50.126415Z",
     "start_time": "2021-11-06T04:40:50.077578Z"
    }
   },
   "outputs": [
    {
     "data": {
      "text/html": [
       "<div>\n",
       "<style scoped>\n",
       "    .dataframe tbody tr th:only-of-type {\n",
       "        vertical-align: middle;\n",
       "    }\n",
       "\n",
       "    .dataframe tbody tr th {\n",
       "        vertical-align: top;\n",
       "    }\n",
       "\n",
       "    .dataframe thead th {\n",
       "        text-align: right;\n",
       "    }\n",
       "</style>\n",
       "<table border=\"1\" class=\"dataframe\">\n",
       "  <thead>\n",
       "    <tr style=\"text-align: right;\">\n",
       "      <th></th>\n",
       "      <th>age</th>\n",
       "      <th>workclass</th>\n",
       "      <th>education</th>\n",
       "      <th>marrital status</th>\n",
       "      <th>occupation</th>\n",
       "      <th>sex</th>\n",
       "      <th>capital gain</th>\n",
       "      <th>capital loss</th>\n",
       "      <th>working hours per week</th>\n",
       "      <th>salary</th>\n",
       "    </tr>\n",
       "  </thead>\n",
       "  <tbody>\n",
       "    <tr>\n",
       "      <th>0</th>\n",
       "      <td>39</td>\n",
       "      <td>Government</td>\n",
       "      <td>13</td>\n",
       "      <td>CurrentlySingle</td>\n",
       "      <td>WhiteCollar</td>\n",
       "      <td>Male</td>\n",
       "      <td>2174</td>\n",
       "      <td>0</td>\n",
       "      <td>40.0</td>\n",
       "      <td>0</td>\n",
       "    </tr>\n",
       "    <tr>\n",
       "      <th>1</th>\n",
       "      <td>50</td>\n",
       "      <td>Others</td>\n",
       "      <td>13</td>\n",
       "      <td>Married</td>\n",
       "      <td>WhiteCollar</td>\n",
       "      <td>Male</td>\n",
       "      <td>0</td>\n",
       "      <td>0</td>\n",
       "      <td>26.0</td>\n",
       "      <td>0</td>\n",
       "    </tr>\n",
       "    <tr>\n",
       "      <th>2</th>\n",
       "      <td>38</td>\n",
       "      <td>Private</td>\n",
       "      <td>9</td>\n",
       "      <td>CurrentlySingle</td>\n",
       "      <td>BlueCollar</td>\n",
       "      <td>Male</td>\n",
       "      <td>0</td>\n",
       "      <td>0</td>\n",
       "      <td>40.0</td>\n",
       "      <td>0</td>\n",
       "    </tr>\n",
       "    <tr>\n",
       "      <th>3</th>\n",
       "      <td>53</td>\n",
       "      <td>Private</td>\n",
       "      <td>7</td>\n",
       "      <td>Married</td>\n",
       "      <td>BlueCollar</td>\n",
       "      <td>Male</td>\n",
       "      <td>0</td>\n",
       "      <td>0</td>\n",
       "      <td>40.0</td>\n",
       "      <td>0</td>\n",
       "    </tr>\n",
       "    <tr>\n",
       "      <th>4</th>\n",
       "      <td>28</td>\n",
       "      <td>Private</td>\n",
       "      <td>13</td>\n",
       "      <td>Married</td>\n",
       "      <td>Service</td>\n",
       "      <td>Female</td>\n",
       "      <td>0</td>\n",
       "      <td>0</td>\n",
       "      <td>40.0</td>\n",
       "      <td>0</td>\n",
       "    </tr>\n",
       "  </tbody>\n",
       "</table>\n",
       "</div>"
      ],
      "text/plain": [
       "   age   workclass  education  marrital status   occupation     sex  \\\n",
       "0   39  Government         13  CurrentlySingle  WhiteCollar    Male   \n",
       "1   50      Others         13          Married  WhiteCollar    Male   \n",
       "2   38     Private          9  CurrentlySingle   BlueCollar    Male   \n",
       "3   53     Private          7          Married   BlueCollar    Male   \n",
       "4   28     Private         13          Married      Service  Female   \n",
       "\n",
       "   capital gain  capital loss  working hours per week  salary  \n",
       "0          2174             0                    40.0       0  \n",
       "1             0             0                    26.0       0  \n",
       "2             0             0                    40.0       0  \n",
       "3             0             0                    40.0       0  \n",
       "4             0             0                    40.0       0  "
      ]
     },
     "execution_count": 33,
     "metadata": {},
     "output_type": "execute_result"
    }
   ],
   "source": [
    "## Applying the created Label Encoder object for the target class\n",
    "## Assigning the 0 to <=50k and 1 to >50k\n",
    "\n",
    "adult_data['salary'] = LE.fit_transform(adult_data['salary'])\n",
    "adult_data.head()"
   ]
  },
  {
   "cell_type": "code",
   "execution_count": 34,
   "metadata": {
    "ExecuteTime": {
     "end_time": "2021-11-06T04:41:25.766639Z",
     "start_time": "2021-11-06T04:41:25.687817Z"
    }
   },
   "outputs": [
    {
     "data": {
      "text/html": [
       "<div>\n",
       "<style scoped>\n",
       "    .dataframe tbody tr th:only-of-type {\n",
       "        vertical-align: middle;\n",
       "    }\n",
       "\n",
       "    .dataframe tbody tr th {\n",
       "        vertical-align: top;\n",
       "    }\n",
       "\n",
       "    .dataframe thead th {\n",
       "        text-align: right;\n",
       "    }\n",
       "</style>\n",
       "<table border=\"1\" class=\"dataframe\">\n",
       "  <thead>\n",
       "    <tr style=\"text-align: right;\">\n",
       "      <th></th>\n",
       "      <th>age</th>\n",
       "      <th>education</th>\n",
       "      <th>capital gain</th>\n",
       "      <th>capital loss</th>\n",
       "      <th>working hours per week</th>\n",
       "      <th>salary</th>\n",
       "      <th>workclass_Others</th>\n",
       "      <th>workclass_Private</th>\n",
       "      <th>marrital status_Married</th>\n",
       "      <th>occupation_Sales</th>\n",
       "      <th>occupation_Service</th>\n",
       "      <th>occupation_Unknown_Others</th>\n",
       "      <th>occupation_WhiteCollar</th>\n",
       "      <th>sex_Male</th>\n",
       "    </tr>\n",
       "  </thead>\n",
       "  <tbody>\n",
       "    <tr>\n",
       "      <th>0</th>\n",
       "      <td>39</td>\n",
       "      <td>13</td>\n",
       "      <td>2174</td>\n",
       "      <td>0</td>\n",
       "      <td>40.0</td>\n",
       "      <td>0</td>\n",
       "      <td>0</td>\n",
       "      <td>0</td>\n",
       "      <td>0</td>\n",
       "      <td>0</td>\n",
       "      <td>0</td>\n",
       "      <td>0</td>\n",
       "      <td>1</td>\n",
       "      <td>1</td>\n",
       "    </tr>\n",
       "    <tr>\n",
       "      <th>1</th>\n",
       "      <td>50</td>\n",
       "      <td>13</td>\n",
       "      <td>0</td>\n",
       "      <td>0</td>\n",
       "      <td>26.0</td>\n",
       "      <td>0</td>\n",
       "      <td>1</td>\n",
       "      <td>0</td>\n",
       "      <td>1</td>\n",
       "      <td>0</td>\n",
       "      <td>0</td>\n",
       "      <td>0</td>\n",
       "      <td>1</td>\n",
       "      <td>1</td>\n",
       "    </tr>\n",
       "    <tr>\n",
       "      <th>2</th>\n",
       "      <td>38</td>\n",
       "      <td>9</td>\n",
       "      <td>0</td>\n",
       "      <td>0</td>\n",
       "      <td>40.0</td>\n",
       "      <td>0</td>\n",
       "      <td>0</td>\n",
       "      <td>1</td>\n",
       "      <td>0</td>\n",
       "      <td>0</td>\n",
       "      <td>0</td>\n",
       "      <td>0</td>\n",
       "      <td>0</td>\n",
       "      <td>1</td>\n",
       "    </tr>\n",
       "    <tr>\n",
       "      <th>3</th>\n",
       "      <td>53</td>\n",
       "      <td>7</td>\n",
       "      <td>0</td>\n",
       "      <td>0</td>\n",
       "      <td>40.0</td>\n",
       "      <td>0</td>\n",
       "      <td>0</td>\n",
       "      <td>1</td>\n",
       "      <td>1</td>\n",
       "      <td>0</td>\n",
       "      <td>0</td>\n",
       "      <td>0</td>\n",
       "      <td>0</td>\n",
       "      <td>1</td>\n",
       "    </tr>\n",
       "    <tr>\n",
       "      <th>4</th>\n",
       "      <td>28</td>\n",
       "      <td>13</td>\n",
       "      <td>0</td>\n",
       "      <td>0</td>\n",
       "      <td>40.0</td>\n",
       "      <td>0</td>\n",
       "      <td>0</td>\n",
       "      <td>1</td>\n",
       "      <td>1</td>\n",
       "      <td>0</td>\n",
       "      <td>1</td>\n",
       "      <td>0</td>\n",
       "      <td>0</td>\n",
       "      <td>0</td>\n",
       "    </tr>\n",
       "  </tbody>\n",
       "</table>\n",
       "</div>"
      ],
      "text/plain": [
       "   age  education  capital gain  capital loss  working hours per week  salary  \\\n",
       "0   39         13          2174             0                    40.0       0   \n",
       "1   50         13             0             0                    26.0       0   \n",
       "2   38          9             0             0                    40.0       0   \n",
       "3   53          7             0             0                    40.0       0   \n",
       "4   28         13             0             0                    40.0       0   \n",
       "\n",
       "   workclass_Others  workclass_Private  marrital status_Married  \\\n",
       "0                 0                  0                        0   \n",
       "1                 1                  0                        1   \n",
       "2                 0                  1                        0   \n",
       "3                 0                  1                        1   \n",
       "4                 0                  1                        1   \n",
       "\n",
       "   occupation_Sales  occupation_Service  occupation_Unknown_Others  \\\n",
       "0                 0                   0                          0   \n",
       "1                 0                   0                          0   \n",
       "2                 0                   0                          0   \n",
       "3                 0                   0                          0   \n",
       "4                 0                   1                          0   \n",
       "\n",
       "   occupation_WhiteCollar  sex_Male  \n",
       "0                       1         1  \n",
       "1                       1         1  \n",
       "2                       0         1  \n",
       "3                       0         1  \n",
       "4                       0         0  "
      ]
     },
     "execution_count": 34,
     "metadata": {},
     "output_type": "execute_result"
    }
   ],
   "source": [
    "## Converting the other 'object' type variables as dummy variables\n",
    "\n",
    "adult_data_dummy = pd.get_dummies(adult_data,drop_first=True)\n",
    "adult_data_dummy.head()"
   ]
  },
  {
   "cell_type": "markdown",
   "metadata": {
    "colab_type": "text",
    "id": "oKl09itOXLza"
   },
   "source": [
    "# Train Test Split"
   ]
  },
  {
   "cell_type": "code",
   "execution_count": 35,
   "metadata": {
    "ExecuteTime": {
     "end_time": "2021-11-06T04:44:41.488506Z",
     "start_time": "2021-11-06T04:44:41.464059Z"
    },
    "colab": {},
    "colab_type": "code",
    "id": "YNt9nBqhXLzc"
   },
   "outputs": [],
   "source": [
    "# Copy all the predictor variables into X dataframe\n",
    "X = adult_data_dummy.drop('salary', axis=1)\n",
    "\n",
    "# Copy target into the y dataframe. \n",
    "y = adult_data_dummy['salary']"
   ]
  },
  {
   "cell_type": "code",
   "execution_count": 36,
   "metadata": {
    "ExecuteTime": {
     "end_time": "2021-11-06T04:44:47.900903Z",
     "start_time": "2021-11-06T04:44:47.881951Z"
    }
   },
   "outputs": [
    {
     "data": {
      "text/plain": [
       "(26697, 14)"
      ]
     },
     "execution_count": 36,
     "metadata": {},
     "output_type": "execute_result"
    }
   ],
   "source": [
    "adult_data_dummy.shape"
   ]
  },
  {
   "cell_type": "code",
   "execution_count": 37,
   "metadata": {
    "ExecuteTime": {
     "end_time": "2021-11-06T04:45:25.619452Z",
     "start_time": "2021-11-06T04:45:25.590526Z"
    }
   },
   "outputs": [
    {
     "data": {
      "text/plain": [
       "0    0.736899\n",
       "1    0.263101\n",
       "Name: salary, dtype: float64"
      ]
     },
     "execution_count": 37,
     "metadata": {},
     "output_type": "execute_result"
    }
   ],
   "source": [
    "# check target variable class proportion\n",
    "adult_data_dummy['salary'].value_counts(1)"
   ]
  },
  {
   "cell_type": "code",
   "execution_count": 38,
   "metadata": {
    "ExecuteTime": {
     "end_time": "2021-11-06T04:46:39.585491Z",
     "start_time": "2021-11-06T04:46:39.548556Z"
    },
    "colab": {},
    "colab_type": "code",
    "id": "wSJ43-pXXLzk"
   },
   "outputs": [],
   "source": [
    "# Split X and y into training and test set in 70:30 ratio\n",
    "X_train, X_test, y_train, y_test = train_test_split(X, \n",
    "                                                    y, \n",
    "                                                    test_size=0.30 , \n",
    "                                                    random_state=1,\n",
    "                                                    stratify=adult_data_dummy['salary']) "
   ]
  },
  {
   "cell_type": "code",
   "execution_count": 39,
   "metadata": {
    "ExecuteTime": {
     "end_time": "2021-11-06T04:46:47.049463Z",
     "start_time": "2021-11-06T04:46:47.031512Z"
    }
   },
   "outputs": [
    {
     "data": {
      "text/plain": [
       "0    0.736876\n",
       "1    0.263124\n",
       "Name: salary, dtype: float64"
      ]
     },
     "execution_count": 39,
     "metadata": {},
     "output_type": "execute_result"
    }
   ],
   "source": [
    "y_train.value_counts(1) # normalize = True"
   ]
  },
  {
   "cell_type": "code",
   "execution_count": 40,
   "metadata": {
    "ExecuteTime": {
     "end_time": "2021-11-06T04:46:52.582554Z",
     "start_time": "2021-11-06T04:46:52.554631Z"
    }
   },
   "outputs": [
    {
     "data": {
      "text/plain": [
       "0    0.736954\n",
       "1    0.263046\n",
       "Name: salary, dtype: float64"
      ]
     },
     "execution_count": 40,
     "metadata": {},
     "output_type": "execute_result"
    }
   ],
   "source": [
    "y_test.value_counts(1)"
   ]
  },
  {
   "cell_type": "markdown",
   "metadata": {
    "colab_type": "text",
    "id": "VXQ9LBYHXLzt"
   },
   "source": [
    "# Logistic Regression Model\n",
    "\n",
    "We can some adjustments to the parameters in the Logistic Regression Class to get a better accuracy. Details of which can be found out on the site scikit-learn mentioned below\n",
    "\n",
    "<a href='https://scikit-learn.org/stable/modules/generated/sklearn.linear_model.LogisticRegression.html'>scikit-learn</a>\n",
    "\n",
    ">Argument=solver{‘newton-cg’, ‘lbfgs’, ‘liblinear’, ‘sag’, ‘saga’}, default=’lbfgs’\n",
    "Algorithm to use in the optimization problem.\n",
    "\n",
    ">For small datasets, ‘liblinear’ is a good choice, whereas ‘sag’ and ‘saga’ are faster for large ones.\n",
    "\n",
    ">For multiclass problems, only ‘newton-cg’, ‘sag’, ‘saga’ and ‘lbfgs’ handle multinomial loss; ‘liblinear’ is limited to one-versus-rest schemes.\n",
    "\n",
    ">‘newton-cg’, ‘lbfgs’, ‘sag’ and ‘saga’ handle L2 or no penalty\n",
    "\n",
    ">‘liblinear’ and ‘saga’ also handle L1 penalty\n",
    "\n",
    ">‘saga’ also supports ‘elasticnet’ penalty\n",
    "\n",
    ">‘liblinear’ does not support setting penalty='none'\n",
    "\n",
    ">Note that ‘sag’ and ‘saga’ fast convergence is only guaranteed on features with approximately the same scale. You can preprocess the data with a scaler from sklearn.preprocessing.\n",
    "\n",
    ">New in version 0.17: Stochastic Average Gradient descent solver.\n",
    "\n",
    ">New in version 0.19: SAGA solver.\n",
    "\n",
    ">Changed in version 0.22: The default solver changed from ‘liblinear’ to ‘lbfgs’ in 0.22.\n",
    "\n",
    "<a href='https://towardsdatascience.com/dont-sweat-the-solver-stuff-aea7cddc3451'> Article on Solvers</a>\n",
    "\n"
   ]
  },
  {
   "cell_type": "code",
   "execution_count": 41,
   "metadata": {
    "ExecuteTime": {
     "end_time": "2021-11-06T04:54:45.864989Z",
     "start_time": "2021-11-06T04:54:22.468914Z"
    },
    "colab": {},
    "colab_type": "code",
    "id": "xgFtlk9xXLzv",
    "outputId": "937a40a3-20bd-4439-ae9d-d35321751c84"
   },
   "outputs": [
    {
     "name": "stderr",
     "output_type": "stream",
     "text": [
      "[Parallel(n_jobs=2)]: Using backend LokyBackend with 2 concurrent workers.\n",
      "[Parallel(n_jobs=2)]: Done   1 out of   1 | elapsed:   23.2s finished\n"
     ]
    },
    {
     "data": {
      "text/plain": [
       "LogisticRegression(max_iter=10000, n_jobs=2, penalty='none', random_state=123,\n",
       "                   solver='newton-cg', verbose=True)"
      ]
     },
     "execution_count": 41,
     "metadata": {},
     "output_type": "execute_result"
    }
   ],
   "source": [
    "# Fit the Logistic Regression model\n",
    "model = LogisticRegression(solver='newton-cg',\n",
    "                           max_iter=10000,\n",
    "                           penalty='none',\n",
    "                           verbose=True,\n",
    "                           n_jobs=2,\n",
    "                           random_state=123)\n",
    "\n",
    "\n",
    "model.fit(X_train, y_train)"
   ]
  },
  {
   "cell_type": "markdown",
   "metadata": {
    "colab_type": "text",
    "id": "Kl-cgs-oXLz2"
   },
   "source": [
    "# Prediction on Train & Test Dataset"
   ]
  },
  {
   "cell_type": "markdown",
   "metadata": {},
   "source": [
    "## Class Label Prediction"
   ]
  },
  {
   "cell_type": "code",
   "execution_count": 42,
   "metadata": {
    "ExecuteTime": {
     "end_time": "2021-11-06T04:55:38.164726Z",
     "start_time": "2021-11-06T04:55:38.137798Z"
    },
    "colab": {},
    "colab_type": "code",
    "id": "pTV-GEDPXLz4"
   },
   "outputs": [],
   "source": [
    "ytrain_predict = model.predict(X_train)\n",
    "ytest_predict = model.predict(X_test)"
   ]
  },
  {
   "cell_type": "code",
   "execution_count": 43,
   "metadata": {
    "ExecuteTime": {
     "end_time": "2021-11-06T04:55:42.172634Z",
     "start_time": "2021-11-06T04:55:42.150693Z"
    }
   },
   "outputs": [
    {
     "data": {
      "text/plain": [
       "array([0, 1, 0, 0, 0, 1, 0, 0, 0, 1])"
      ]
     },
     "execution_count": 43,
     "metadata": {},
     "output_type": "execute_result"
    }
   ],
   "source": [
    "ytest_predict[:10]"
   ]
  },
  {
   "cell_type": "code",
   "execution_count": 44,
   "metadata": {
    "ExecuteTime": {
     "end_time": "2021-11-06T04:55:56.362664Z",
     "start_time": "2021-11-06T04:55:56.347704Z"
    }
   },
   "outputs": [
    {
     "data": {
      "text/plain": [
       "array([0, 0, 0, 0, 0, 0, 1, 1, 0, 0])"
      ]
     },
     "execution_count": 44,
     "metadata": {},
     "output_type": "execute_result"
    }
   ],
   "source": [
    "ytrain_predict[:10]"
   ]
  },
  {
   "cell_type": "markdown",
   "metadata": {
    "colab_type": "text",
    "id": "qPHLDmcvXL0A"
   },
   "source": [
    "## Class Probability Prediction"
   ]
  },
  {
   "cell_type": "code",
   "execution_count": 45,
   "metadata": {
    "ExecuteTime": {
     "end_time": "2021-11-06T04:56:45.424778Z",
     "start_time": "2021-11-06T04:56:45.391866Z"
    },
    "colab": {},
    "colab_type": "code",
    "id": "ClH1gIilXL0C",
    "outputId": "fe169bf0-67c7-466e-ea4e-fffdd71b83aa"
   },
   "outputs": [
    {
     "data": {
      "text/html": [
       "<div>\n",
       "<style scoped>\n",
       "    .dataframe tbody tr th:only-of-type {\n",
       "        vertical-align: middle;\n",
       "    }\n",
       "\n",
       "    .dataframe tbody tr th {\n",
       "        vertical-align: top;\n",
       "    }\n",
       "\n",
       "    .dataframe thead th {\n",
       "        text-align: right;\n",
       "    }\n",
       "</style>\n",
       "<table border=\"1\" class=\"dataframe\">\n",
       "  <thead>\n",
       "    <tr style=\"text-align: right;\">\n",
       "      <th></th>\n",
       "      <th>0</th>\n",
       "      <th>1</th>\n",
       "    </tr>\n",
       "  </thead>\n",
       "  <tbody>\n",
       "    <tr>\n",
       "      <th>0</th>\n",
       "      <td>0.563198</td>\n",
       "      <td>0.436802</td>\n",
       "    </tr>\n",
       "    <tr>\n",
       "      <th>1</th>\n",
       "      <td>0.005704</td>\n",
       "      <td>0.994296</td>\n",
       "    </tr>\n",
       "    <tr>\n",
       "      <th>2</th>\n",
       "      <td>0.933165</td>\n",
       "      <td>0.066835</td>\n",
       "    </tr>\n",
       "    <tr>\n",
       "      <th>3</th>\n",
       "      <td>0.761389</td>\n",
       "      <td>0.238611</td>\n",
       "    </tr>\n",
       "    <tr>\n",
       "      <th>4</th>\n",
       "      <td>0.716124</td>\n",
       "      <td>0.283876</td>\n",
       "    </tr>\n",
       "  </tbody>\n",
       "</table>\n",
       "</div>"
      ],
      "text/plain": [
       "          0         1\n",
       "0  0.563198  0.436802\n",
       "1  0.005704  0.994296\n",
       "2  0.933165  0.066835\n",
       "3  0.761389  0.238611\n",
       "4  0.716124  0.283876"
      ]
     },
     "execution_count": 45,
     "metadata": {},
     "output_type": "execute_result"
    }
   ],
   "source": [
    "ytest_predict_prob=model.predict_proba(X_test)\n",
    "pd.DataFrame(ytest_predict_prob).head()"
   ]
  },
  {
   "cell_type": "markdown",
   "metadata": {
    "colab_type": "text",
    "id": "6fyksw9dXL0L"
   },
   "source": [
    "# Model Evaluation"
   ]
  },
  {
   "cell_type": "markdown",
   "metadata": {},
   "source": [
    "## Training Data"
   ]
  },
  {
   "cell_type": "markdown",
   "metadata": {},
   "source": [
    "### Accuracy"
   ]
  },
  {
   "cell_type": "code",
   "execution_count": 46,
   "metadata": {
    "ExecuteTime": {
     "end_time": "2021-11-06T04:58:18.137676Z",
     "start_time": "2021-11-06T04:58:18.100775Z"
    },
    "colab": {},
    "colab_type": "code",
    "id": "JG5YkoOTXL0M",
    "outputId": "0e537710-1626-49fe-b05b-a1c35459b54b"
   },
   "outputs": [
    {
     "data": {
      "text/plain": [
       "0.8265104083052389"
      ]
     },
     "execution_count": 46,
     "metadata": {},
     "output_type": "execute_result"
    }
   ],
   "source": [
    "# Accuracy - Training Data\n",
    "model.score(X_train, y_train)"
   ]
  },
  {
   "cell_type": "markdown",
   "metadata": {
    "colab_type": "text",
    "id": "JB0l0y12XL0S"
   },
   "source": [
    "### AUC and ROC for the training data"
   ]
  },
  {
   "cell_type": "code",
   "execution_count": 47,
   "metadata": {
    "ExecuteTime": {
     "end_time": "2021-11-06T04:58:23.859587Z",
     "start_time": "2021-11-06T04:58:23.157947Z"
    }
   },
   "outputs": [
    {
     "data": {
      "image/png": "[encoded data removed]",
      "text/plain": [
       "<Figure size 432x288 with 1 Axes>"
      ]
     },
     "metadata": {},
     "output_type": "display_data"
    }
   ],
   "source": [
    "plot_roc_curve(model, X_train,y_train)\n",
    "plt.plot([0, 1], [0, 1], linestyle='--');"
   ]
  },
  {
   "cell_type": "markdown",
   "metadata": {},
   "source": [
    "### Confusion Matrix & Classification Report Metrics"
   ]
  },
  {
   "cell_type": "code",
   "execution_count": 48,
   "metadata": {
    "ExecuteTime": {
     "end_time": "2021-11-06T04:58:47.494867Z",
     "start_time": "2021-11-06T04:58:47.083451Z"
    }
   },
   "outputs": [
    {
     "data": {
      "image/png": "[encoded data removed]",
      "text/plain": [
       "<Figure size 432x288 with 1 Axes>"
      ]
     },
     "metadata": {},
     "output_type": "display_data"
    }
   ],
   "source": [
    "plot_confusion_matrix(model,X_train,y_train, colorbar=False)\n",
    "plt.grid();"
   ]
  },
  {
   "cell_type": "code",
   "execution_count": 49,
   "metadata": {
    "ExecuteTime": {
     "end_time": "2021-11-06T04:58:53.751294Z",
     "start_time": "2021-11-06T04:58:53.664525Z"
    }
   },
   "outputs": [
    {
     "name": "stdout",
     "output_type": "stream",
     "text": [
      "              precision    recall  f1-score   support\n",
      "\n",
      "           0       0.86      0.92      0.89     13770\n",
      "           1       0.72      0.56      0.63      4917\n",
      "\n",
      "    accuracy                           0.83     18687\n",
      "   macro avg       0.79      0.74      0.76     18687\n",
      "weighted avg       0.82      0.83      0.82     18687\n",
      "\n"
     ]
    }
   ],
   "source": [
    "print(classification_report(y_train, ytrain_predict))"
   ]
  },
  {
   "cell_type": "markdown",
   "metadata": {},
   "source": [
    "## Test Data"
   ]
  },
  {
   "cell_type": "markdown",
   "metadata": {},
   "source": [
    "### Accuracy"
   ]
  },
  {
   "cell_type": "code",
   "execution_count": 50,
   "metadata": {
    "ExecuteTime": {
     "end_time": "2021-11-06T04:59:39.294394Z",
     "start_time": "2021-11-06T04:59:39.264475Z"
    },
    "colab": {},
    "colab_type": "code",
    "id": "weSpIESCXL0a",
    "outputId": "115b3609-d00d-488a-c00e-6bab38a59baa"
   },
   "outputs": [
    {
     "data": {
      "text/plain": [
       "0.8212234706616729"
      ]
     },
     "execution_count": 50,
     "metadata": {},
     "output_type": "execute_result"
    }
   ],
   "source": [
    "# Accuracy - Test Data\n",
    "model.score(X_test, y_test)"
   ]
  },
  {
   "cell_type": "markdown",
   "metadata": {
    "colab_type": "text",
    "id": "3fKTZGD6XL0j"
   },
   "source": [
    "### AUC and ROC"
   ]
  },
  {
   "cell_type": "code",
   "execution_count": 51,
   "metadata": {
    "ExecuteTime": {
     "end_time": "2021-11-06T04:59:47.870813Z",
     "start_time": "2021-11-06T04:59:47.155223Z"
    }
   },
   "outputs": [
    {
     "data": {
      "image/png": "[encoded data removed]",
      "text/plain": [
       "<Figure size 432x288 with 1 Axes>"
      ]
     },
     "metadata": {},
     "output_type": "display_data"
    }
   ],
   "source": [
    "plot_roc_curve(model, X_test, y_test);\n",
    "plt.plot([0,1],[0,1], linestyle='--');"
   ]
  },
  {
   "cell_type": "markdown",
   "metadata": {
    "colab_type": "text",
    "id": "2izdT6sxXL1C"
   },
   "source": [
    "### Confusion Matrix & Classification Report Metrics"
   ]
  },
  {
   "cell_type": "code",
   "execution_count": 52,
   "metadata": {
    "ExecuteTime": {
     "end_time": "2021-11-06T04:59:55.097786Z",
     "start_time": "2021-11-06T04:59:54.658933Z"
    }
   },
   "outputs": [
    {
     "data": {
      "image/png": "[encoded data removed]",
      "text/plain": [
       "<Figure size 432x288 with 1 Axes>"
      ]
     },
     "metadata": {},
     "output_type": "display_data"
    }
   ],
   "source": [
    "plot_confusion_matrix(model,X_test,y_test, colorbar=False)\n",
    "plt.grid();"
   ]
  },
  {
   "cell_type": "code",
   "execution_count": 53,
   "metadata": {
    "ExecuteTime": {
     "end_time": "2021-11-06T04:59:58.055984Z",
     "start_time": "2021-11-06T04:59:58.003126Z"
    },
    "colab": {},
    "colab_type": "code",
    "id": "yz9kn6OZXL1a",
    "outputId": "4c7370a2-4212-4538-b50f-ec6e43ea921d"
   },
   "outputs": [
    {
     "name": "stdout",
     "output_type": "stream",
     "text": [
      "              precision    recall  f1-score   support\n",
      "\n",
      "           0       0.85      0.92      0.88      5903\n",
      "           1       0.70      0.55      0.62      2107\n",
      "\n",
      "    accuracy                           0.82      8010\n",
      "   macro avg       0.78      0.74      0.75      8010\n",
      "weighted avg       0.81      0.82      0.81      8010\n",
      "\n"
     ]
    }
   ],
   "source": [
    "print(classification_report(y_test, ytest_predict))"
   ]
  },
  {
   "cell_type": "markdown",
   "metadata": {},
   "source": [
    "# GridSearchCV"
   ]
  },
  {
   "cell_type": "code",
   "execution_count": 54,
   "metadata": {
    "ExecuteTime": {
     "end_time": "2021-11-06T05:07:12.644055Z",
     "start_time": "2021-11-06T05:07:12.629094Z"
    }
   },
   "outputs": [],
   "source": [
    "grid={'penalty':['l2','none','l1','elasticnet'],\n",
    "      'solver':['sag','lbfgs','saga','newton-cg','liblinear'],\n",
    "      'tol':[0.0001,0.00001], # 0.1, 0.01,0.001,\n",
    "     'l1_ratio':[0.25,0.5,0.75]} #'max_iter':[100,1000,10000]"
   ]
  },
  {
   "cell_type": "code",
   "execution_count": 55,
   "metadata": {
    "ExecuteTime": {
     "end_time": "2021-11-06T05:07:23.242035Z",
     "start_time": "2021-11-06T05:07:23.230066Z"
    }
   },
   "outputs": [],
   "source": [
    "model = LogisticRegression(max_iter=10000,\n",
    "                           n_jobs=2,\n",
    "                           random_state=1)"
   ]
  },
  {
   "cell_type": "code",
   "execution_count": 56,
   "metadata": {
    "ExecuteTime": {
     "end_time": "2021-11-06T05:09:25.061770Z",
     "start_time": "2021-11-06T05:09:25.046810Z"
    }
   },
   "outputs": [],
   "source": [
    "grid_search = GridSearchCV(estimator = model, \n",
    "                           param_grid = grid, \n",
    "                           cv = 3,\n",
    "                           n_jobs=-1,\n",
    "                           scoring='f1')"
   ]
  },
  {
   "cell_type": "code",
   "execution_count": null,
   "metadata": {},
   "outputs": [],
   "source": [
    "# We are not running this code in the mentor session as it will take around 2 hours to complete grid search with all the hyper parameter option we have given in the grid. we will directly skip to working with the best model parameters identified by this grid search earlier. when you get this notebook you can uncomment the below code and run it. Pl note it may take over 2 hours depending in the speed of your laptop.\n",
    "\n",
    "# grid_search.fit(X_train, y_train)"
   ]
  },
  {
   "cell_type": "markdown",
   "metadata": {},
   "source": [
    "Best hyper parameters based on Grid Search:\n",
    "\n",
    "{'l1_ratio': 0.25, 'penalty': 'l2', 'solver': 'newton-cg', 'tol': 0.0001} "
   ]
  },
  {
   "cell_type": "code",
   "execution_count": null,
   "metadata": {},
   "outputs": [],
   "source": [
    "# you can uncomment and run the below 2 lines of code once you have finished running grid search\n",
    "\n",
    "# print(grid_search.best_params_,'\\n')\n",
    "# print(grid_search.best_estimator_)"
   ]
  },
  {
   "cell_type": "code",
   "execution_count": 57,
   "metadata": {
    "ExecuteTime": {
     "end_time": "2021-11-06T05:13:09.365184Z",
     "start_time": "2021-11-06T05:13:09.347197Z"
    }
   },
   "outputs": [],
   "source": [
    "# best_model = grid_search.best_estimator_\n",
    "best_model = LogisticRegression(max_iter=10000,n_jobs=2,random_state=1,\n",
    "                               l1_ratio=0.25,penalty='l2',\n",
    "                               solver='newton-cg', tol=0.0001)"
   ]
  },
  {
   "cell_type": "code",
   "execution_count": 58,
   "metadata": {
    "ExecuteTime": {
     "end_time": "2021-11-06T05:13:40.806366Z",
     "start_time": "2021-11-06T05:13:29.808786Z"
    }
   },
   "outputs": [
    {
     "data": {
      "text/plain": [
       "LogisticRegression(l1_ratio=0.25, max_iter=10000, n_jobs=2, random_state=1,\n",
       "                   solver='newton-cg')"
      ]
     },
     "execution_count": 58,
     "metadata": {},
     "output_type": "execute_result"
    }
   ],
   "source": [
    "best_model.fit(X_train,y_train)"
   ]
  },
  {
   "cell_type": "code",
   "execution_count": 59,
   "metadata": {
    "ExecuteTime": {
     "end_time": "2021-11-06T05:13:43.860677Z",
     "start_time": "2021-11-06T05:13:43.842730Z"
    }
   },
   "outputs": [],
   "source": [
    "# Prediction on the training set\n",
    "\n",
    "ytrain_predict = best_model.predict(X_train)\n",
    "ytest_predict = best_model.predict(X_test)"
   ]
  },
  {
   "cell_type": "code",
   "execution_count": 60,
   "metadata": {
    "ExecuteTime": {
     "end_time": "2021-11-06T05:13:50.097260Z",
     "start_time": "2021-11-06T05:13:50.076315Z"
    }
   },
   "outputs": [
    {
     "data": {
      "text/html": [
       "<div>\n",
       "<style scoped>\n",
       "    .dataframe tbody tr th:only-of-type {\n",
       "        vertical-align: middle;\n",
       "    }\n",
       "\n",
       "    .dataframe tbody tr th {\n",
       "        vertical-align: top;\n",
       "    }\n",
       "\n",
       "    .dataframe thead th {\n",
       "        text-align: right;\n",
       "    }\n",
       "</style>\n",
       "<table border=\"1\" class=\"dataframe\">\n",
       "  <thead>\n",
       "    <tr style=\"text-align: right;\">\n",
       "      <th></th>\n",
       "      <th>0</th>\n",
       "      <th>1</th>\n",
       "    </tr>\n",
       "  </thead>\n",
       "  <tbody>\n",
       "    <tr>\n",
       "      <th>0</th>\n",
       "      <td>0.564122</td>\n",
       "      <td>0.435878</td>\n",
       "    </tr>\n",
       "    <tr>\n",
       "      <th>1</th>\n",
       "      <td>0.005709</td>\n",
       "      <td>0.994291</td>\n",
       "    </tr>\n",
       "    <tr>\n",
       "      <th>2</th>\n",
       "      <td>0.932618</td>\n",
       "      <td>0.067382</td>\n",
       "    </tr>\n",
       "    <tr>\n",
       "      <th>3</th>\n",
       "      <td>0.760958</td>\n",
       "      <td>0.239042</td>\n",
       "    </tr>\n",
       "    <tr>\n",
       "      <th>4</th>\n",
       "      <td>0.715670</td>\n",
       "      <td>0.284330</td>\n",
       "    </tr>\n",
       "  </tbody>\n",
       "</table>\n",
       "</div>"
      ],
      "text/plain": [
       "          0         1\n",
       "0  0.564122  0.435878\n",
       "1  0.005709  0.994291\n",
       "2  0.932618  0.067382\n",
       "3  0.760958  0.239042\n",
       "4  0.715670  0.284330"
      ]
     },
     "execution_count": 60,
     "metadata": {},
     "output_type": "execute_result"
    }
   ],
   "source": [
    "## Getting the probabilities on the test set\n",
    "\n",
    "ytest_predict_prob=best_model.predict_proba(X_test)\n",
    "pd.DataFrame(ytest_predict_prob).head()"
   ]
  },
  {
   "cell_type": "code",
   "execution_count": 61,
   "metadata": {
    "ExecuteTime": {
     "end_time": "2021-11-06T05:14:16.815989Z",
     "start_time": "2021-11-06T05:14:16.342242Z"
    }
   },
   "outputs": [
    {
     "name": "stdout",
     "output_type": "stream",
     "text": [
      "              precision    recall  f1-score   support\n",
      "\n",
      "           0       0.86      0.92      0.89     13770\n",
      "           1       0.72      0.56      0.63      4917\n",
      "\n",
      "    accuracy                           0.83     18687\n",
      "   macro avg       0.79      0.74      0.76     18687\n",
      "weighted avg       0.82      0.83      0.82     18687\n",
      " \n",
      "\n"
     ]
    },
    {
     "data": {
      "image/png": "[encoded data removed]",
      "text/plain": [
       "<Figure size 432x288 with 1 Axes>"
      ]
     },
     "metadata": {},
     "output_type": "display_data"
    }
   ],
   "source": [
    "## Confusion matrix on the training data\n",
    "\n",
    "plot_confusion_matrix(best_model,X_train,y_train, colorbar=False)\n",
    "plt.grid();\n",
    "print(classification_report(y_train, ytrain_predict),'\\n');"
   ]
  },
  {
   "cell_type": "code",
   "execution_count": 62,
   "metadata": {
    "ExecuteTime": {
     "end_time": "2021-11-06T05:14:58.089617Z",
     "start_time": "2021-11-06T05:14:57.638820Z"
    }
   },
   "outputs": [
    {
     "name": "stdout",
     "output_type": "stream",
     "text": [
      "              precision    recall  f1-score   support\n",
      "\n",
      "           0       0.85      0.92      0.88      5903\n",
      "           1       0.70      0.55      0.62      2107\n",
      "\n",
      "    accuracy                           0.82      8010\n",
      "   macro avg       0.78      0.73      0.75      8010\n",
      "weighted avg       0.81      0.82      0.81      8010\n",
      " \n",
      "\n"
     ]
    },
    {
     "data": {
      "image/png": "[encoded data removed]",
      "text/plain": [
       "<Figure size 432x288 with 1 Axes>"
      ]
     },
     "metadata": {},
     "output_type": "display_data"
    }
   ],
   "source": [
    "## Confusion matrix on the test data\n",
    "\n",
    "plot_confusion_matrix(best_model,X_test,y_test, colorbar=False)\n",
    "plt.grid();\n",
    "print(classification_report(y_test, ytest_predict),'\\n');"
   ]
  },
  {
   "cell_type": "markdown",
   "metadata": {},
   "source": [
    "You can select other (or more) parameters to perform GridSearchCV and try to optimize the desired parameter values and see if you are able to get a better model performance using such parameters."
   ]
  },
  {
   "cell_type": "markdown",
   "metadata": {
    "colab_type": "text",
    "id": "raugh4Y1XL1l"
   },
   "source": [
    "Note: Alternatively, label encoding can  be done instead of one-hot encoding on categorical variables before building the logistic regression model. Do play around with these techniques of encoding category labels.\n",
    "\n",
    "Suggestions:\n",
    "\n",
    "\n",
    "- **Education**: Reduce number of levels by clubbing together all school levels to a single level called 'schooling' etc\n",
    "- **capital gains /loss** : convert it to a categorical feature with 2 levels - zero and non-zero, since more than 75% of values are zero and due to this all non -zero values are showing as outliers (since Q3=0, IQR=0, so the outlier limits are also zero)\n",
    "- provide more options to GridSearchCV like solvers, penalty, tolerance (beware run time may take long or hang depending on your laptop configuration)\n",
    "- Try different values of threshold probability instead of the default 0.5 to predict the '1' label of the target variable. We will learn how we can do this next week in the LDA session. Taking lower values of threshold probability increases the instances of '1' or positive class and would help improve the recall scores but precision scores will start dipping."
   ]
  },
  {
   "cell_type": "code",
   "execution_count": 63,
   "metadata": {
    "ExecuteTime": {
     "end_time": "2021-11-06T05:26:11.002395Z",
     "start_time": "2021-11-06T05:26:10.979454Z"
    }
   },
   "outputs": [
    {
     "data": {
      "text/plain": [
       "array([[ 2.58249983e-02,  2.36285630e-01,  3.16172311e-04,\n",
       "         6.79667665e-04,  5.08833370e-02, -2.53605486e-01,\n",
       "        -5.21025646e-02,  2.18754868e+00,  4.22006376e-01,\n",
       "         7.15305035e-01, -1.47722235e-01,  7.87753935e-01,\n",
       "         2.93408337e-01]])"
      ]
     },
     "execution_count": 63,
     "metadata": {},
     "output_type": "execute_result"
    }
   ],
   "source": [
    "best_model.coef_"
   ]
  },
  {
   "cell_type": "markdown",
   "metadata": {
    "colab_type": "text",
    "id": "cZp1158rXPU7"
   },
   "source": [
    "# Running in Google Colab\n",
    "Importing jupyter notebook\n",
    "1. Login to Google\n",
    "2. Go to drive.google.com\n",
    "3. Upload jupyter notebook file into the drive\n",
    "4. double click it, or right click -&gt; open with -&gt; google colaboratory\n",
    "Alternatively,\n",
    "1. Login to Google\n",
    "2. Go to https://colab.research.google.com/notebooks/intro.ipynb#recent=true\n",
    "3. Upload the jupyter notebook\n",
    "\n",
    "Loading dataset into colab\n",
    "## Use the below code to load the dataset\n",
    "from google.colab import files\n",
    "\n",
    "uploaded = files.upload() # upload file here from local\n",
    "\n",
    "import io\n",
    "\n",
    "df2 = pd.read_csv(io.BytesIO(uploaded[&#39;Filename.csv&#39;])) #give the filename in quotes\n",
    "\n",
    "Go to Runtime > change Runtime type > check if it points to Python"
   ]
  },
  {
   "cell_type": "markdown",
   "metadata": {},
   "source": [
    "                                                    Happy Learning"
   ]
  }
 ],
 "metadata": {
  "colab": {
   "name": "Adult_data- Logistic Regression_Solution.ipynb",
   "provenance": []
  },
  "kernelspec": {
   "display_name": "Python 3 (ipykernel)",
   "language": "python",
   "name": "python3"
  },
  "language_info": {
   "codemirror_mode": {
    "name": "ipython",
    "version": 3
   },
   "file_extension": ".py",
   "mimetype": "text/x-python",
   "name": "python",
   "nbconvert_exporter": "python",
   "pygments_lexer": "ipython3",
   "version": "3.9.12"
  },
  "latex_envs": {
   "LaTeX_envs_menu_present": true,
   "autoclose": false,
   "autocomplete": true,
   "bibliofile": "biblio.bib",
   "cite_by": "apalike",
   "current_citInitial": 1,
   "eqLabelWithNumbers": true,
   "eqNumInitial": 1,
   "hotkeys": {
    "equation": "Ctrl-E",
    "itemize": "Ctrl-I"
   },
   "labels_anchors": false,
   "latex_user_defs": false,
   "report_style_numbering": false,
   "user_envs_cfg": false
  },
  "toc": {
   "base_numbering": 1,
   "nav_menu": {},
   "number_sections": true,
   "sideBar": true,
   "skip_h1_title": false,
   "title_cell": "Table of Contents",
   "title_sidebar": "Contents",
   "toc_cell": false,
   "toc_position": {},
   "toc_section_display": true,
   "toc_window_display": false
  },
  "varInspector": {
   "cols": {
    "lenName": 16,
    "lenType": 16,
    "lenVar": 40
   },
   "kernels_config": {
    "python": {
     "delete_cmd_postfix": "",
     "delete_cmd_prefix": "del ",
     "library": "var_list.py",
     "varRefreshCmd": "print(var_dic_list())"
    },
    "r": {
     "delete_cmd_postfix": ") ",
     "delete_cmd_prefix": "rm(",
     "library": "var_list.r",
     "varRefreshCmd": "cat(var_dic_list()) "
    }
   },
   "types_to_exclude": [
    "module",
    "function",
    "builtin_function_or_method",
    "instance",
    "_Feature"
   ],
   "window_display": false
  }
 },
 "nbformat": 4,
 "nbformat_minor": 1
}
